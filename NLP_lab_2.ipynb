{
  "nbformat": 4,
  "nbformat_minor": 0,
  "metadata": {
    "colab": {
      "provenance": [],
      "authorship_tag": "ABX9TyMVW8rl3IdvntQuxf+CsQGG",
      "include_colab_link": true
    },
    "kernelspec": {
      "name": "python3",
      "display_name": "Python 3"
    },
    "language_info": {
      "name": "python"
    }
  },
  "cells": [
    {
      "cell_type": "markdown",
      "metadata": {
        "id": "view-in-github",
        "colab_type": "text"
      },
      "source": [
        "<a href=\"https://colab.research.google.com/github/Amrutha9010/Sleep_Disorder/blob/main/NLP_lab_2.ipynb\" target=\"_parent\"><img src=\"https://colab.research.google.com/assets/colab-badge.svg\" alt=\"Open In Colab\"/></a>"
      ]
    },
    {
      "cell_type": "markdown",
      "source": [
        "edit-distance"
      ],
      "metadata": {
        "id": "fuVcRkS57Won"
      }
    },
    {
      "cell_type": "code",
      "execution_count": null,
      "metadata": {
        "id": "xUM2IGP9vVJ-"
      },
      "outputs": [],
      "source": [
        "try:\n",
        "    import nltk\n",
        "except ImportError:\n",
        "    !pip install nltk\n",
        "    import nltk"
      ]
    },
    {
      "cell_type": "code",
      "source": [
        "from nltk.metrics.distance import edit_distance"
      ],
      "metadata": {
        "id": "jn0VjOb06lcm"
      },
      "execution_count": null,
      "outputs": []
    },
    {
      "cell_type": "code",
      "source": [
        "# Step 2: Define test cases\n",
        "test_cases = [\n",
        "    (\"kitten\", \"sitting\"),       # substitutions + insertions\n",
        "    (\"flaw\", \"lawn\"),            # substitutions\n",
        "    (\"intention\", \"execution\"),  # complex edits\n",
        "    (\"car\", \"cars\"),             # insertion\n",
        "    (\"machin\", \"machine\"),       # insertion at end\n",
        "    (\"abcdef\", \"azced\"),         # substitutions + deletions\n",
        "    (\"gumbo\", \"gambol\"),         # mix of edits\n",
        "]"
      ],
      "metadata": {
        "id": "PH2djO1w6odk"
      },
      "execution_count": null,
      "outputs": []
    },
    {
      "cell_type": "code",
      "source": [
        "# Step 3: Display results\n",
        "print(\"🔍 Minimum Edit Distance (Levenshtein) Results:\\n\")\n",
        "\n",
        "for source, target in test_cases:\n",
        "    dist = edit_distance(source, target)\n",
        "    print(f\"From '{source}' → '{target}'\")\n",
        "    print(f\"🔸 Edit Distance: {dist}\")\n",
        "    print(\"-\" * 40)"
      ],
      "metadata": {
        "colab": {
          "base_uri": "https://localhost:8080/"
        },
        "id": "OKwWVvpt6tBt",
        "outputId": "7d20a687-1700-47ea-f25a-7df17451f9e5"
      },
      "execution_count": null,
      "outputs": [
        {
          "output_type": "stream",
          "name": "stdout",
          "text": [
            "🔍 Minimum Edit Distance (Levenshtein) Results:\n",
            "\n",
            "From 'kitten' → 'sitting'\n",
            "🔸 Edit Distance: 3\n",
            "----------------------------------------\n",
            "From 'flaw' → 'lawn'\n",
            "🔸 Edit Distance: 2\n",
            "----------------------------------------\n",
            "From 'intention' → 'execution'\n",
            "🔸 Edit Distance: 5\n",
            "----------------------------------------\n",
            "From 'car' → 'cars'\n",
            "🔸 Edit Distance: 1\n",
            "----------------------------------------\n",
            "From 'machin' → 'machine'\n",
            "🔸 Edit Distance: 1\n",
            "----------------------------------------\n",
            "From 'abcdef' → 'azced'\n",
            "🔸 Edit Distance: 3\n",
            "----------------------------------------\n",
            "From 'gumbo' → 'gambol'\n",
            "🔸 Edit Distance: 2\n",
            "----------------------------------------\n"
          ]
        }
      ]
    },
    {
      "cell_type": "code",
      "source": [
        "# If you want edit operations (steps) like insert/replace/delete, here are two options: option 1 Use python-Levenshtein library\n",
        "! pip install python-Levenshtein"
      ],
      "metadata": {
        "colab": {
          "base_uri": "https://localhost:8080/"
        },
        "id": "t8s2nM5c61mO",
        "outputId": "a57e4c27-1566-40f7-df5e-d7e00cef45f7"
      },
      "execution_count": null,
      "outputs": [
        {
          "output_type": "stream",
          "name": "stdout",
          "text": [
            "Collecting python-Levenshtein\n",
            "  Downloading python_levenshtein-0.27.1-py3-none-any.whl.metadata (3.7 kB)\n",
            "Collecting Levenshtein==0.27.1 (from python-Levenshtein)\n",
            "  Downloading levenshtein-0.27.1-cp311-cp311-manylinux_2_17_x86_64.manylinux2014_x86_64.whl.metadata (3.6 kB)\n",
            "Collecting rapidfuzz<4.0.0,>=3.9.0 (from Levenshtein==0.27.1->python-Levenshtein)\n",
            "  Downloading rapidfuzz-3.13.0-cp311-cp311-manylinux_2_17_x86_64.manylinux2014_x86_64.whl.metadata (12 kB)\n",
            "Downloading python_levenshtein-0.27.1-py3-none-any.whl (9.4 kB)\n",
            "Downloading levenshtein-0.27.1-cp311-cp311-manylinux_2_17_x86_64.manylinux2014_x86_64.whl (161 kB)\n",
            "\u001b[2K   \u001b[90m━━━━━━━━━━━━━━━━━━━━━━━━━━━━━━━━━━━━━━━━\u001b[0m \u001b[32m161.7/161.7 kB\u001b[0m \u001b[31m9.5 MB/s\u001b[0m eta \u001b[36m0:00:00\u001b[0m\n",
            "\u001b[?25hDownloading rapidfuzz-3.13.0-cp311-cp311-manylinux_2_17_x86_64.manylinux2014_x86_64.whl (3.1 MB)\n",
            "\u001b[2K   \u001b[90m━━━━━━━━━━━━━━━━━━━━━━━━━━━━━━━━━━━━━━━━\u001b[0m \u001b[32m3.1/3.1 MB\u001b[0m \u001b[31m84.8 MB/s\u001b[0m eta \u001b[36m0:00:00\u001b[0m\n",
            "\u001b[?25hInstalling collected packages: rapidfuzz, Levenshtein, python-Levenshtein\n",
            "Successfully installed Levenshtein-0.27.1 python-Levenshtein-0.27.1 rapidfuzz-3.13.0\n"
          ]
        }
      ]
    },
    {
      "cell_type": "code",
      "source": [
        "import Levenshtein\n",
        "\n",
        "source = \"kitten\"\n",
        "target = \"sitting\"\n",
        "\n",
        "print(\"Edit distance:\", Levenshtein.distance(source, target))\n",
        "print(\"Edit operations (diff):\", Levenshtein.opcodes(source, target))"
      ],
      "metadata": {
        "colab": {
          "base_uri": "https://localhost:8080/"
        },
        "id": "R_V8DEbc6301",
        "outputId": "11160640-f910-4b32-e5e0-11bd53b1ff6a"
      },
      "execution_count": null,
      "outputs": [
        {
          "output_type": "stream",
          "name": "stdout",
          "text": [
            "Edit distance: 3\n",
            "Edit operations (diff): [('replace', 0, 1, 0, 1), ('equal', 1, 4, 1, 4), ('replace', 4, 5, 4, 5), ('equal', 5, 6, 5, 6), ('insert', 6, 6, 6, 7)]\n"
          ]
        }
      ]
    },
    {
      "cell_type": "code",
      "source": [
        "# Option 2: Use textdistance (pure Python, no C-extension)\n",
        "! pip install textdistance"
      ],
      "metadata": {
        "colab": {
          "base_uri": "https://localhost:8080/"
        },
        "id": "6iFpXjzb68KO",
        "outputId": "7de2198d-49ad-4d19-f411-263b9a278c00"
      },
      "execution_count": null,
      "outputs": [
        {
          "output_type": "stream",
          "name": "stdout",
          "text": [
            "Collecting textdistance\n",
            "  Downloading textdistance-4.6.3-py3-none-any.whl.metadata (18 kB)\n",
            "Downloading textdistance-4.6.3-py3-none-any.whl (31 kB)\n",
            "Installing collected packages: textdistance\n",
            "Successfully installed textdistance-4.6.3\n"
          ]
        }
      ]
    },
    {
      "cell_type": "code",
      "source": [
        "import textdistance\n",
        "\n",
        "source = \"kitten\"\n",
        "target = \"sitting\"\n",
        "\n",
        "distance = textdistance.levenshtein.distance(source, target)\n",
        "print(f\"Levenshtein distance: {distance}\")"
      ],
      "metadata": {
        "colab": {
          "base_uri": "https://localhost:8080/"
        },
        "id": "QSfZVb_r69Cu",
        "outputId": "b072c128-afb5-4dbd-d6e1-9be525418fe7"
      },
      "execution_count": null,
      "outputs": [
        {
          "output_type": "stream",
          "name": "stdout",
          "text": [
            "Levenshtein distance: 3\n"
          ]
        }
      ]
    },
    {
      "cell_type": "markdown",
      "source": [
        "n-grams (calculating probability)"
      ],
      "metadata": {
        "id": "h1Cwt8NB7J1l"
      }
    },
    {
      "cell_type": "code",
      "source": [
        "#ngrams generation using library function\n",
        "import nltk\n",
        "nltk.download('punkt_tab')\n",
        "from nltk.util import ngrams\n",
        "samplText=\"this is a very good book to study\"\n",
        "for i in range(1,4):\n",
        "  NGRAMS=ngrams(sequence=nltk.word_tokenize(samplText), n=i)\n",
        "  for grams in NGRAMS:\n",
        "    print(grams)"
      ],
      "metadata": {
        "colab": {
          "base_uri": "https://localhost:8080/"
        },
        "id": "9jtygFvo68-m",
        "outputId": "20ff5c2a-cfd1-48d3-d6a8-d4fbc58a31f2"
      },
      "execution_count": null,
      "outputs": [
        {
          "output_type": "stream",
          "name": "stderr",
          "text": [
            "[nltk_data] Downloading package punkt_tab to /root/nltk_data...\n",
            "[nltk_data]   Unzipping tokenizers/punkt_tab.zip.\n"
          ]
        },
        {
          "output_type": "stream",
          "name": "stdout",
          "text": [
            "('this',)\n",
            "('is',)\n",
            "('a',)\n",
            "('very',)\n",
            "('good',)\n",
            "('book',)\n",
            "('to',)\n",
            "('study',)\n",
            "('this', 'is')\n",
            "('is', 'a')\n",
            "('a', 'very')\n",
            "('very', 'good')\n",
            "('good', 'book')\n",
            "('book', 'to')\n",
            "('to', 'study')\n",
            "('this', 'is', 'a')\n",
            "('is', 'a', 'very')\n",
            "('a', 'very', 'good')\n",
            "('very', 'good', 'book')\n",
            "('good', 'book', 'to')\n",
            "('book', 'to', 'study')\n"
          ]
        }
      ]
    },
    {
      "cell_type": "code",
      "source": [
        "#userdefined function for bigrams\n",
        "def bigrams(data):\n",
        "  data = []\n",
        "  for word in inputstr.split():\n",
        "          data.append(word)\n",
        "  print(data)\n",
        "  listOfBigrams = []\n",
        "  for i in range(len(data)-1):\n",
        "        bigram = (data[i], data[i + 1])\n",
        "        listOfBigrams.append(bigram)\n",
        "  print(listOfBigrams)\n",
        "\n",
        "inputstr= \"This is a dog\"\n",
        "bigrams(inputstr);"
      ],
      "metadata": {
        "colab": {
          "base_uri": "https://localhost:8080/"
        },
        "id": "mnWkTHDS686u",
        "outputId": "f75fbe1d-ca40-4406-b6c0-81be380bc0c6"
      },
      "execution_count": null,
      "outputs": [
        {
          "output_type": "stream",
          "name": "stdout",
          "text": [
            "['This', 'is', 'a', 'dog']\n",
            "[('This', 'is'), ('is', 'a'), ('a', 'dog')]\n"
          ]
        }
      ]
    },
    {
      "cell_type": "code",
      "source": [
        "#Trigram generation without using library function\n",
        "\n",
        "    # Example corpus\n",
        "def trigrams(data):\n",
        "  data = []\n",
        "  for word in inputstr.split():\n",
        "          data.append(word)\n",
        "\n",
        "  listOfTrigrams = []\n",
        "  for i in range(len(data) - 2):\n",
        "        trigram = (data[i], data[i + 1],data[i+2])\n",
        "        listOfTrigrams.append(trigram)\n",
        "  print(listOfTrigrams)\n",
        "\n",
        "inputstr= \"This is a dog\"\n",
        "trigrams(inputstr);"
      ],
      "metadata": {
        "colab": {
          "base_uri": "https://localhost:8080/"
        },
        "id": "OmNHgqQE7jPe",
        "outputId": "76f76c79-38ee-42ee-eb88-36e98723bdc0"
      },
      "execution_count": null,
      "outputs": [
        {
          "output_type": "stream",
          "name": "stdout",
          "text": [
            "[('This', 'is', 'a'), ('is', 'a', 'dog')]\n"
          ]
        }
      ]
    },
    {
      "cell_type": "code",
      "source": [
        "# ngrams\n",
        "def generate_ngrams(text, n):\n",
        "    tokens = text.split()\n",
        "    ngrams = [tuple(tokens[i:i + n]) for i in range(len(tokens) - n + 1)]\n",
        "    return ngrams\n",
        "\n",
        "text = \"Natural Language Processing Lab\"\n",
        "n=int(input(\"Enter the value of n:\"))\n",
        "ngrams = generate_ngrams(text, n)\n",
        "print(\"Ngrams:\", ngrams)"
      ],
      "metadata": {
        "colab": {
          "base_uri": "https://localhost:8080/"
        },
        "id": "7Qhcu8O27mB-",
        "outputId": "0a7b5c2f-271a-4120-b69f-ec1123b93825"
      },
      "execution_count": null,
      "outputs": [
        {
          "output_type": "stream",
          "name": "stdout",
          "text": [
            "Enter the value of n:3\n",
            "Ngrams: [('Natural', 'Language', 'Processing'), ('Language', 'Processing', 'Lab')]\n"
          ]
        }
      ]
    },
    {
      "cell_type": "code",
      "source": [
        "#bigrams\n",
        "#To calculate the highest probability of a word (w2) occurring after another word (w1).\n",
        "def readData():\n",
        "    # Example corpus\n",
        "    data = ['This is a dog', 'This is a cat', 'I love my cat', 'This is my name']\n",
        "    dat = []\n",
        "    for sentence in data:\n",
        "        for word in sentence.split():\n",
        "            dat.append(word)\n",
        "    return dat\n",
        "\n",
        "def createBigram(data):\n",
        "    listOfBigrams = []\n",
        "    bigramCounts = {}\n",
        "    unigramCounts = {}\n",
        "\n",
        "    for i in range(len(data) - 1):\n",
        "        word1, word2 = data[i], data[i + 1]\n",
        "        bigram = (word1, word2)\n",
        "        listOfBigrams.append(bigram)\n",
        "\n",
        "        # Count bigrams\n",
        "        if bigram in bigramCounts:\n",
        "            bigramCounts[bigram] += 1\n",
        "        else:\n",
        "            bigramCounts[bigram] = 1\n",
        "\n",
        "        # Count unigrams (word1)\n",
        "        if word1 in unigramCounts:\n",
        "            unigramCounts[word1] += 1\n",
        "        else:\n",
        "            unigramCounts[word1] = 1\n",
        "\n",
        "    # Count the last unigram (final word)\n",
        "    last_word = data[-1]\n",
        "    if last_word in unigramCounts:\n",
        "        unigramCounts[last_word] += 1\n",
        "    else:\n",
        "        unigramCounts[last_word] = 1\n",
        "\n",
        "    return listOfBigrams, unigramCounts, bigramCounts\n",
        "\n",
        "def calcBigramProb(listOfBigrams, unigramCounts, bigramCounts):\n",
        "    listOfProb = {}\n",
        "    for bigram in listOfBigrams:\n",
        "        word1 = bigram[0]\n",
        "        # P(word2 | word1) = count(word1, word2) / count(word1)\n",
        "        listOfProb[bigram] = bigramCounts[bigram] / unigramCounts[word1]\n",
        "    return listOfProb\n",
        "\n",
        "data = readData()\n",
        "listOfBigrams, unigramCounts, bigramCounts = createBigram(data)\n",
        "\n",
        "bigramProb = calcBigramProb(listOfBigrams, unigramCounts, bigramCounts)\n",
        "print(\"\\nBigrams with their probability:\")\n",
        "for bigram, prob in bigramProb.items():\n",
        "    print(f\"{bigram}: {prob:.4f}\")\n",
        "max_pair = max(bigramProb, key=bigramProb.get)\n",
        "max_prob = bigramProb[max_pair]\n",
        "print(f\"The word '{max_pair[1]}' has the highest probability of occurring after '{max_pair[0]}'.\")\n",
        "print(f\"Probability: {max_prob:.2f}\")"
      ],
      "metadata": {
        "colab": {
          "base_uri": "https://localhost:8080/"
        },
        "id": "1rQQulq07tl-",
        "outputId": "d454eba3-d616-4959-b5c5-b60f127d6010"
      },
      "execution_count": null,
      "outputs": [
        {
          "output_type": "stream",
          "name": "stdout",
          "text": [
            "\n",
            "Bigrams with their probability:\n",
            "('This', 'is'): 1.0000\n",
            "('is', 'a'): 0.6667\n",
            "('a', 'dog'): 0.5000\n",
            "('dog', 'This'): 1.0000\n",
            "('a', 'cat'): 0.5000\n",
            "('cat', 'I'): 0.5000\n",
            "('I', 'love'): 1.0000\n",
            "('love', 'my'): 1.0000\n",
            "('my', 'cat'): 0.5000\n",
            "('cat', 'This'): 0.5000\n",
            "('is', 'my'): 0.3333\n",
            "('my', 'name'): 0.5000\n",
            "The word 'is' has the highest probability of occurring after 'This'.\n",
            "Probability: 1.00\n"
          ]
        }
      ]
    },
    {
      "cell_type": "code",
      "source": [
        "\"\"\"Write a python program to find the probability of the given statement “This is my cat” by taking\n",
        "the an exmple corpus into consideration.\n",
        "'This is a dog’,\n",
        "'This is a cat',\n",
        "'I love my cat',\n",
        "'This is my name’\"\"\"\n",
        "\n",
        "def readData():\n",
        "    # Example corpus\n",
        "    data = ['This is a dog', 'This is a cat', 'I love my cat', 'This is my name']\n",
        "    dat = []\n",
        "    for sentence in data:\n",
        "        for word in sentence.split():\n",
        "            dat.append(word)\n",
        "    print(\"Corpus as word list:\")\n",
        "    print(dat)\n",
        "    return dat\n",
        "\n",
        "def createBigram(data):\n",
        "    listOfBigrams = []\n",
        "    bigramCounts = {}\n",
        "    unigramCounts = {}\n",
        "\n",
        "    for i in range(len(data) - 1):\n",
        "        word1, word2 = data[i], data[i + 1]\n",
        "        bigram = (word1, word2)\n",
        "        listOfBigrams.append(bigram)\n",
        "\n",
        "        # Count bigrams\n",
        "        if bigram in bigramCounts:\n",
        "            bigramCounts[bigram] += 1\n",
        "        else:\n",
        "            bigramCounts[bigram] = 1\n",
        "\n",
        "        # Count unigrams (word1)\n",
        "        if word1 in unigramCounts:\n",
        "            unigramCounts[word1] += 1\n",
        "        else:\n",
        "            unigramCounts[word1] = 1\n",
        "\n",
        "    # Count the last unigram (final word)\n",
        "    last_word = data[-1]\n",
        "    if last_word in unigramCounts:\n",
        "        unigramCounts[last_word] += 1\n",
        "    else:\n",
        "        unigramCounts[last_word] = 1\n",
        "\n",
        "    return listOfBigrams, unigramCounts, bigramCounts\n",
        "\n",
        "def calcBigramProb(listOfBigrams, unigramCounts, bigramCounts):\n",
        "    listOfProb = {}\n",
        "    for bigram in listOfBigrams:\n",
        "        word1 = bigram[0]\n",
        "        # P(word2 | word1) = count(word1, word2) / count(word1)\n",
        "        listOfProb[bigram] = bigramCounts[bigram] / unigramCounts[word1]\n",
        "    return listOfProb\n",
        "\n",
        "if __name__ == '__main__':\n",
        "    data = readData()\n",
        "    listOfBigrams, unigramCounts, bigramCounts = createBigram(data)\n",
        "\n",
        "    print(\"\\nAll the possible Bigrams:\")\n",
        "    print(listOfBigrams)\n",
        "\n",
        "    print(\"\\nBigrams with frequency:\")\n",
        "    print(bigramCounts)\n",
        "\n",
        "    print(\"\\nUnigrams with frequency:\")\n",
        "    print(unigramCounts)\n",
        "\n",
        "    bigramProb = calcBigramProb(listOfBigrams, unigramCounts, bigramCounts)\n",
        "    print(\"\\nBigrams with their probability:\")\n",
        "    for bigram, prob in bigramProb.items():\n",
        "        print(f\"{bigram}: {prob:.4f}\")\n",
        "\n",
        "    # Input sentence\n",
        "    inputSentence = \"This is my cat\"\n",
        "    words = inputSentence.split()\n",
        "\n",
        "    # Generate bigrams from input sentence\n",
        "    inputBigrams = []\n",
        "    for i in range(len(words) - 1):\n",
        "        inputBigrams.append((words[i], words[i + 1]))\n",
        "\n",
        "    print(\"\\nBigrams in the input sentence:\")\n",
        "    print(inputBigrams)\n",
        "\n",
        "    # Calculate sentence probability\n",
        "    sentenceProb = 1\n",
        "    for bigram in inputBigrams:\n",
        "        if bigram in bigramProb:\n",
        "            sentenceProb *= bigramProb[bigram]\n",
        "        else:\n",
        "            sentenceProb *= 0  # Probability becomes 0 if bigram not in corpus\n",
        "\n",
        "    print(f\"\\nProbability of sentence \\\"{inputSentence}\\\" = {sentenceProb}\")"
      ],
      "metadata": {
        "colab": {
          "base_uri": "https://localhost:8080/"
        },
        "id": "srB4R1at7tiG",
        "outputId": "22729561-2b35-4c65-a145-5389d1653d61"
      },
      "execution_count": null,
      "outputs": [
        {
          "output_type": "stream",
          "name": "stdout",
          "text": [
            "Corpus as word list:\n",
            "['This', 'is', 'a', 'dog', 'This', 'is', 'a', 'cat', 'I', 'love', 'my', 'cat', 'This', 'is', 'my', 'name']\n",
            "\n",
            "All the possible Bigrams:\n",
            "[('This', 'is'), ('is', 'a'), ('a', 'dog'), ('dog', 'This'), ('This', 'is'), ('is', 'a'), ('a', 'cat'), ('cat', 'I'), ('I', 'love'), ('love', 'my'), ('my', 'cat'), ('cat', 'This'), ('This', 'is'), ('is', 'my'), ('my', 'name')]\n",
            "\n",
            "Bigrams with frequency:\n",
            "{('This', 'is'): 3, ('is', 'a'): 2, ('a', 'dog'): 1, ('dog', 'This'): 1, ('a', 'cat'): 1, ('cat', 'I'): 1, ('I', 'love'): 1, ('love', 'my'): 1, ('my', 'cat'): 1, ('cat', 'This'): 1, ('is', 'my'): 1, ('my', 'name'): 1}\n",
            "\n",
            "Unigrams with frequency:\n",
            "{'This': 3, 'is': 3, 'a': 2, 'dog': 1, 'cat': 2, 'I': 1, 'love': 1, 'my': 2, 'name': 1}\n",
            "\n",
            "Bigrams with their probability:\n",
            "('This', 'is'): 1.0000\n",
            "('is', 'a'): 0.6667\n",
            "('a', 'dog'): 0.5000\n",
            "('dog', 'This'): 1.0000\n",
            "('a', 'cat'): 0.5000\n",
            "('cat', 'I'): 0.5000\n",
            "('I', 'love'): 1.0000\n",
            "('love', 'my'): 1.0000\n",
            "('my', 'cat'): 0.5000\n",
            "('cat', 'This'): 0.5000\n",
            "('is', 'my'): 0.3333\n",
            "('my', 'name'): 0.5000\n",
            "\n",
            "Bigrams in the input sentence:\n",
            "[('This', 'is'), ('is', 'my'), ('my', 'cat')]\n",
            "\n",
            "Probability of sentence \"This is my cat\" = 0.16666666666666666\n"
          ]
        }
      ]
    },
    {
      "cell_type": "code",
      "source": [
        "#laplace smoothing or add-one smoothing\n",
        "from collections import Counter\n",
        "\n",
        "\n",
        "def laplace_smoothing(ngrams, vocab_size):\n",
        "    ngram_counts = Counter(ngrams)\n",
        "    #print(ngram_counts)\n",
        "    smoothed_ngrams = {ngram: (count + 1) / (len(ngrams) + vocab_size)\n",
        "                       for ngram, count in ngram_counts.items()}\n",
        "    return smoothed_ngrams\n",
        "\n",
        "\n",
        "ngrams = [('Natural', 'Language', 'Processing'), ('Language', 'Processing', 'Lab')]\n",
        "\n",
        "vocab_size = 4\n",
        "\n",
        "smoothed_ngrams = laplace_smoothing(ngrams, vocab_size)\n",
        "print(\"Smoothed N-grams:\", smoothed_ngrams)"
      ],
      "metadata": {
        "colab": {
          "base_uri": "https://localhost:8080/"
        },
        "id": "HmObq1rq7te2",
        "outputId": "564bfb13-57ce-422a-bd7c-8d0dbe227771"
      },
      "execution_count": null,
      "outputs": [
        {
          "output_type": "stream",
          "name": "stdout",
          "text": [
            "Smoothed N-grams: {('Natural', 'Language', 'Processing'): 0.3333333333333333, ('Language', 'Processing', 'Lab'): 0.3333333333333333}\n"
          ]
        }
      ]
    },
    {
      "cell_type": "code",
      "source": [
        "#bigrams\n",
        "#To calculate bigram probability using Laplse smoothing .\n",
        "def readData():\n",
        "    # Example corpus\n",
        "    data = ['This is a dog', 'This is a cat', 'I love my cat', 'This is my name']\n",
        "    dat = []\n",
        "    for sentence in data:\n",
        "        for word in sentence.split():\n",
        "            dat.append(word)\n",
        "        V=len(set(dat))\n",
        "\n",
        "    return dat,V\n",
        "\n",
        "def createBigram(data):\n",
        "    listOfBigrams = []\n",
        "    bigramCounts = {}\n",
        "    unigramCounts = {}\n",
        "\n",
        "    for i in range(len(data) - 1):\n",
        "        word1, word2 = data[i], data[i + 1]\n",
        "        bigram = (word1, word2)\n",
        "        listOfBigrams.append(bigram)\n",
        "\n",
        "        # Count bigrams\n",
        "        if bigram in bigramCounts:\n",
        "            bigramCounts[bigram] += 1\n",
        "        else:\n",
        "            bigramCounts[bigram] = 1\n",
        "\n",
        "        # Count unigrams (word1)\n",
        "        if word1 in unigramCounts:\n",
        "            unigramCounts[word1] += 1\n",
        "        else:\n",
        "            unigramCounts[word1] = 1\n",
        "\n",
        "    # Count the last unigram (final word)\n",
        "    last_word = data[-1]\n",
        "    if last_word in unigramCounts:\n",
        "        unigramCounts[last_word] += 1\n",
        "    else:\n",
        "        unigramCounts[last_word] = 1\n",
        "\n",
        "    return listOfBigrams, unigramCounts, bigramCounts\n",
        "\n",
        "def calcBigramProb(listOfBigrams, unigramCounts, bigramCounts,V):\n",
        "    listOfProb = {}\n",
        "    for bigram in listOfBigrams:\n",
        "        word1 = bigram[0]\n",
        "        # P(word2 | word1) = count(word1, word2) / count(word1)\n",
        "        listOfProb[bigram] = (bigramCounts[bigram]+1)/(unigramCounts[word1]+V)\n",
        "    return listOfProb\n",
        "\n",
        "data,V = readData()\n",
        "listOfBigrams, unigramCounts, bigramCounts = createBigram(data)\n",
        "\n",
        "bigramProb = calcBigramProb(listOfBigrams, unigramCounts, bigramCounts,V)\n",
        "print(\"\\nBigrams with their probability after Laplace Smoothing:\")\n",
        "for bigram, prob in bigramProb.items():\n",
        "    print(f\"{bigram}: {prob:.4f}\")"
      ],
      "metadata": {
        "colab": {
          "base_uri": "https://localhost:8080/"
        },
        "id": "7UU3Iwe673k_",
        "outputId": "be65a9aa-b449-4431-cb7c-fe42fd88eb99"
      },
      "execution_count": null,
      "outputs": [
        {
          "output_type": "stream",
          "name": "stdout",
          "text": [
            "\n",
            "Bigrams with their probability after Laplace Smoothing:\n",
            "('This', 'is'): 0.3333\n",
            "('is', 'a'): 0.2500\n",
            "('a', 'dog'): 0.1818\n",
            "('dog', 'This'): 0.2000\n",
            "('a', 'cat'): 0.1818\n",
            "('cat', 'I'): 0.1818\n",
            "('I', 'love'): 0.2000\n",
            "('love', 'my'): 0.2000\n",
            "('my', 'cat'): 0.1818\n",
            "('cat', 'This'): 0.1818\n",
            "('is', 'my'): 0.1667\n",
            "('my', 'name'): 0.1818\n"
          ]
        }
      ]
    }
  ]
}